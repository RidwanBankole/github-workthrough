{
 "cells": [
  {
   "cell_type": "markdown",
   "id": "7cef74fa",
   "metadata": {},
   "source": [
    "# Data Structures\n",
    "\n",
    "\n",
    "**Data structures**: are specialized ways of organizing, storing, and managing data in a computer so that it can be accessed and modified efficiently. They define the layout or format in which data is stored, making operations like searching, adding, deleting, or updating data more structured and optimized.\n",
    "\n",
    "In Python, common data structures include **lists**, **tuples**, **sets**, and **dictionaries**. Each data structure has its unique properties and use cases."
   ]
  },
  {
   "cell_type": "code",
   "execution_count": 8,
   "id": "38a47d1d",
   "metadata": {},
   "outputs": [],
   "source": [
    "my_family_ages = [23, 20, 17, 15, 14, 10]"
   ]
  },
  {
   "cell_type": "code",
   "execution_count": 10,
   "id": "4a70ca13",
   "metadata": {},
   "outputs": [],
   "source": [
    "school_items = {'Tuwo', 'Amala', 'Beverages', 'Bed', 'lamp'}"
   ]
  },
  {
   "cell_type": "code",
   "execution_count": null,
   "id": "ae0bda40",
   "metadata": {},
   "outputs": [],
   "source": [
    "my_age = 10"
   ]
  },
  {
   "cell_type": "code",
   "execution_count": null,
   "id": "42c7af26",
   "metadata": {},
   "outputs": [],
   "source": []
  },
  {
   "cell_type": "markdown",
   "id": "09051ecc",
   "metadata": {},
   "source": [
    "## Lists\n",
    "\n",
    "A **list** is an ordered collection of items in Python, which can hold a variety of data types such as integers, strings, or even other lists. Lists are **mutable**, meaning their content can be changed after creation.\n",
    "\n",
    "Syntax for defining a list:\n",
    "```python\n",
    "my_list = [1, 2, 3, \"hello\", True]\n",
    "```"
   ]
  },
  {
   "cell_type": "code",
   "execution_count": 13,
   "id": "982a5461",
   "metadata": {},
   "outputs": [],
   "source": [
    "family_name = ['Ade', 'John', 'Femi', 'Musa']"
   ]
  },
  {
   "cell_type": "code",
   "execution_count": 14,
   "id": "9a7dbe75",
   "metadata": {},
   "outputs": [
    {
     "name": "stdout",
     "output_type": "stream",
     "text": [
      "<class 'list'>\n"
     ]
    }
   ],
   "source": [
    "print(type(family_name))"
   ]
  },
  {
   "cell_type": "code",
   "execution_count": 15,
   "id": "7c9afcee",
   "metadata": {},
   "outputs": [],
   "source": [
    "school_list = ['Garri', 25000, 'Semo', 'Rice', 6000]"
   ]
  },
  {
   "cell_type": "code",
   "execution_count": null,
   "id": "79906ec6",
   "metadata": {},
   "outputs": [],
   "source": []
  },
  {
   "cell_type": "code",
   "execution_count": null,
   "id": "51ea0488",
   "metadata": {},
   "outputs": [],
   "source": []
  },
  {
   "cell_type": "code",
   "execution_count": null,
   "id": "e607494b",
   "metadata": {},
   "outputs": [],
   "source": []
  },
  {
   "cell_type": "code",
   "execution_count": null,
   "id": "7b657772",
   "metadata": {},
   "outputs": [],
   "source": []
  },
  {
   "cell_type": "code",
   "execution_count": null,
   "id": "349552ed",
   "metadata": {},
   "outputs": [],
   "source": []
  },
  {
   "cell_type": "code",
   "execution_count": null,
   "id": "4159690e",
   "metadata": {},
   "outputs": [],
   "source": []
  },
  {
   "cell_type": "markdown",
   "id": "02e53476",
   "metadata": {},
   "source": [
    "### Creating List\n",
    "Lists are created by placing items (elements) inside square brackets `[]`, separated by commas.\n",
    "\n",
    "Example:\n",
    "```python\n",
    "fruits = [\"apple\", \"banana\", \"cherry\"]\n",
    "```"
   ]
  },
  {
   "cell_type": "code",
   "execution_count": null,
   "id": "20d140a8",
   "metadata": {},
   "outputs": [],
   "source": []
  },
  {
   "cell_type": "code",
   "execution_count": null,
   "id": "7ab20ca7",
   "metadata": {},
   "outputs": [],
   "source": []
  },
  {
   "cell_type": "code",
   "execution_count": null,
   "id": "a5d93c15",
   "metadata": {},
   "outputs": [],
   "source": []
  },
  {
   "cell_type": "markdown",
   "id": "7ffef2f5",
   "metadata": {},
   "source": [
    "### Different List Functions\n",
    "- `len(list)`: Returns the number of items in a list.\n",
    "- `max(list)`: Returns the maximum value in a list.\n",
    "- `min(list)`: Returns the minimum value in a list.\n",
    "- `sum(list)`: Returns the sum of elements (for numeric lists).\n",
    "\n",
    "Example:\n",
    "```python\n",
    "numbers = [5, 10, 15, 20]\n",
    "print(len(numbers))  # Output: 4\n",
    "print(sum(numbers))  # Output: 50\n",
    "```"
   ]
  },
  {
   "cell_type": "code",
   "execution_count": 17,
   "id": "4e9b7446",
   "metadata": {},
   "outputs": [
    {
     "data": {
      "text/plain": [
       "3"
      ]
     },
     "execution_count": 17,
     "metadata": {},
     "output_type": "execute_result"
    }
   ],
   "source": [
    "my_list = ['Garri', 'Semo', 25000]\n",
    "\n",
    "len(my_list)"
   ]
  },
  {
   "cell_type": "code",
   "execution_count": 22,
   "id": "8e9abda7",
   "metadata": {},
   "outputs": [
    {
     "data": {
      "text/plain": [
       "14"
      ]
     },
     "execution_count": 22,
     "metadata": {},
     "output_type": "execute_result"
    }
   ],
   "source": [
    "class_ages = [23, 45, 32, 14, 24]\n",
    "min(class_ages)"
   ]
  },
  {
   "cell_type": "code",
   "execution_count": 23,
   "id": "a6fd645d",
   "metadata": {},
   "outputs": [
    {
     "data": {
      "text/plain": [
       "45"
      ]
     },
     "execution_count": 23,
     "metadata": {},
     "output_type": "execute_result"
    }
   ],
   "source": [
    "max(class_ages)"
   ]
  },
  {
   "cell_type": "code",
   "execution_count": 24,
   "id": "1eaf7cab",
   "metadata": {},
   "outputs": [
    {
     "data": {
      "text/plain": [
       "138"
      ]
     },
     "execution_count": 24,
     "metadata": {},
     "output_type": "execute_result"
    }
   ],
   "source": [
    "sum(class_ages)"
   ]
  },
  {
   "cell_type": "code",
   "execution_count": 5,
   "id": "c1b9e194",
   "metadata": {},
   "outputs": [],
   "source": [
    "my_items = [1, 2, 3, 'Boy', 'Girl', 'President', True, False]"
   ]
  },
  {
   "cell_type": "code",
   "execution_count": 6,
   "id": "28af53c8",
   "metadata": {},
   "outputs": [
    {
     "data": {
      "text/plain": [
       "list"
      ]
     },
     "execution_count": 6,
     "metadata": {},
     "output_type": "execute_result"
    }
   ],
   "source": [
    "type(my_items)"
   ]
  },
  {
   "cell_type": "code",
   "execution_count": 11,
   "id": "45cf66b7",
   "metadata": {},
   "outputs": [
    {
     "ename": "TypeError",
     "evalue": "'<' not supported between instances of 'int' and 'str'",
     "output_type": "error",
     "traceback": [
      "\u001b[1;31m---------------------------------------------------------------------------\u001b[0m",
      "\u001b[1;31mTypeError\u001b[0m                                 Traceback (most recent call last)",
      "Cell \u001b[1;32mIn[11], line 1\u001b[0m\n\u001b[1;32m----> 1\u001b[0m \u001b[38;5;28mmin\u001b[39m([\u001b[38;5;124m'\u001b[39m\u001b[38;5;124mBusola\u001b[39m\u001b[38;5;124m'\u001b[39m, \u001b[38;5;124m'\u001b[39m\u001b[38;5;124mAde\u001b[39m\u001b[38;5;124m'\u001b[39m, \u001b[38;5;124m'\u001b[39m\u001b[38;5;124mSara\u001b[39m\u001b[38;5;124m'\u001b[39m, \u001b[38;5;241m1\u001b[39m])\n",
      "\u001b[1;31mTypeError\u001b[0m: '<' not supported between instances of 'int' and 'str'"
     ]
    }
   ],
   "source": [
    "min(['Busola', 'Ade', 'Sara', 1])"
   ]
  },
  {
   "cell_type": "markdown",
   "id": "feced65f",
   "metadata": {},
   "source": [
    "### Different List Methods\n",
    "- `append(item)`: Adds an item to the end of the list.\n",
    "- `extend(iterable)`: Adds all items from an iterable (e.g., another list) to the end.\n",
    "- `insert(index, item)`: Inserts an item at the specified position.\n",
    "- `remove(item)`: Removes the first occurrence of an item.\n",
    "- `pop([index])`: Removes and returns an item at the given index (default is the last item).\n",
    "- `sort()`: Sorts the list in ascending order.\n",
    "- `reverse()`: Reverses the list in place.\n",
    "\n",
    "Example:\n",
    "```python\n",
    "my_list = [3, 1, 4]\n",
    "my_list.append(5)      # [3, 1, 4, 5]\n",
    "my_list.insert(1, 2)   # [3, 2, 1, 4, 5]\n",
    "my_list.sort()         # [1, 2, 3, 4, 5]\n",
    "```"
   ]
  },
  {
   "cell_type": "code",
   "execution_count": 12,
   "id": "1760c7e1",
   "metadata": {},
   "outputs": [],
   "source": [
    "my_list = ['milo', 'rice', 'beans', 'palm oil']"
   ]
  },
  {
   "cell_type": "code",
   "execution_count": 13,
   "id": "5e208819",
   "metadata": {},
   "outputs": [],
   "source": [
    "my_list.append('semo')"
   ]
  },
  {
   "cell_type": "code",
   "execution_count": 14,
   "id": "e72186f6",
   "metadata": {},
   "outputs": [
    {
     "data": {
      "text/plain": [
       "['milo', 'rice', 'beans', 'palm oil', 'semo']"
      ]
     },
     "execution_count": 14,
     "metadata": {},
     "output_type": "execute_result"
    }
   ],
   "source": [
    "my_list"
   ]
  },
  {
   "cell_type": "code",
   "execution_count": 16,
   "id": "c388f1f8",
   "metadata": {},
   "outputs": [],
   "source": [
    "# use extend to add another list to the existing list\n",
    "my_list.extend(['cereals', 'milk', 'sugar', 'oat'])"
   ]
  },
  {
   "cell_type": "code",
   "execution_count": 17,
   "id": "af608d60",
   "metadata": {},
   "outputs": [
    {
     "data": {
      "text/plain": [
       "['milo',\n",
       " 'rice',\n",
       " 'beans',\n",
       " 'palm oil',\n",
       " 'semo',\n",
       " 'cereals',\n",
       " 'milk',\n",
       " 'sugar',\n",
       " 'oat']"
      ]
     },
     "execution_count": 17,
     "metadata": {},
     "output_type": "execute_result"
    }
   ],
   "source": [
    "my_list"
   ]
  },
  {
   "cell_type": "code",
   "execution_count": 18,
   "id": "f713f801",
   "metadata": {},
   "outputs": [],
   "source": [
    "# add an item to a particular position in the list\n",
    "my_list.insert(0, 'garri')"
   ]
  },
  {
   "cell_type": "code",
   "execution_count": 19,
   "id": "0b5de9ab",
   "metadata": {},
   "outputs": [
    {
     "data": {
      "text/plain": [
       "['garri',\n",
       " 'milo',\n",
       " 'rice',\n",
       " 'beans',\n",
       " 'palm oil',\n",
       " 'semo',\n",
       " 'cereals',\n",
       " 'milk',\n",
       " 'sugar',\n",
       " 'oat']"
      ]
     },
     "execution_count": 19,
     "metadata": {},
     "output_type": "execute_result"
    }
   ],
   "source": [
    "my_list"
   ]
  },
  {
   "cell_type": "code",
   "execution_count": 20,
   "id": "cc1978fc",
   "metadata": {},
   "outputs": [],
   "source": [
    "my_list.insert(2, 'bournvita')"
   ]
  },
  {
   "cell_type": "code",
   "execution_count": 21,
   "id": "0f10891e",
   "metadata": {},
   "outputs": [
    {
     "data": {
      "text/plain": [
       "['garri',\n",
       " 'milo',\n",
       " 'bournvita',\n",
       " 'rice',\n",
       " 'beans',\n",
       " 'palm oil',\n",
       " 'semo',\n",
       " 'cereals',\n",
       " 'milk',\n",
       " 'sugar',\n",
       " 'oat']"
      ]
     },
     "execution_count": 21,
     "metadata": {},
     "output_type": "execute_result"
    }
   ],
   "source": [
    "my_list"
   ]
  },
  {
   "cell_type": "code",
   "execution_count": 22,
   "id": "8af41107",
   "metadata": {},
   "outputs": [],
   "source": [
    "# remove \n",
    "my_list.remove('bournvita')"
   ]
  },
  {
   "cell_type": "code",
   "execution_count": 23,
   "id": "6c80398a",
   "metadata": {},
   "outputs": [
    {
     "data": {
      "text/plain": [
       "['garri',\n",
       " 'milo',\n",
       " 'rice',\n",
       " 'beans',\n",
       " 'palm oil',\n",
       " 'semo',\n",
       " 'cereals',\n",
       " 'milk',\n",
       " 'sugar',\n",
       " 'oat']"
      ]
     },
     "execution_count": 23,
     "metadata": {},
     "output_type": "execute_result"
    }
   ],
   "source": [
    "my_list"
   ]
  },
  {
   "cell_type": "code",
   "execution_count": 25,
   "id": "7aa418fd",
   "metadata": {},
   "outputs": [],
   "source": [
    "my_list.append('sweet')"
   ]
  },
  {
   "cell_type": "code",
   "execution_count": 26,
   "id": "e3e61336",
   "metadata": {},
   "outputs": [
    {
     "data": {
      "text/plain": [
       "['garri',\n",
       " 'milo',\n",
       " 'rice',\n",
       " 'beans',\n",
       " 'palm oil',\n",
       " 'semo',\n",
       " 'cereals',\n",
       " 'milk',\n",
       " 'sugar',\n",
       " 'oat',\n",
       " 'sweet',\n",
       " 'sweet']"
      ]
     },
     "execution_count": 26,
     "metadata": {},
     "output_type": "execute_result"
    }
   ],
   "source": [
    "my_list"
   ]
  },
  {
   "cell_type": "code",
   "execution_count": 27,
   "id": "e1517aa4",
   "metadata": {},
   "outputs": [],
   "source": [
    "my_list.remove('sweet')"
   ]
  },
  {
   "cell_type": "code",
   "execution_count": 28,
   "id": "11b9ceca",
   "metadata": {},
   "outputs": [
    {
     "data": {
      "text/plain": [
       "['garri',\n",
       " 'milo',\n",
       " 'rice',\n",
       " 'beans',\n",
       " 'palm oil',\n",
       " 'semo',\n",
       " 'cereals',\n",
       " 'milk',\n",
       " 'sugar',\n",
       " 'oat',\n",
       " 'sweet']"
      ]
     },
     "execution_count": 28,
     "metadata": {},
     "output_type": "execute_result"
    }
   ],
   "source": [
    "my_list"
   ]
  },
  {
   "cell_type": "code",
   "execution_count": 29,
   "id": "81b4d5d7",
   "metadata": {},
   "outputs": [
    {
     "data": {
      "text/plain": [
       "'sweet'"
      ]
     },
     "execution_count": 29,
     "metadata": {},
     "output_type": "execute_result"
    }
   ],
   "source": [
    "# remove items without stating its name\n",
    "my_list.pop() # if the pop has no argument, pop removes the last item in the list"
   ]
  },
  {
   "cell_type": "code",
   "execution_count": 30,
   "id": "e88e731b",
   "metadata": {},
   "outputs": [
    {
     "data": {
      "text/plain": [
       "['garri',\n",
       " 'milo',\n",
       " 'rice',\n",
       " 'beans',\n",
       " 'palm oil',\n",
       " 'semo',\n",
       " 'cereals',\n",
       " 'milk',\n",
       " 'sugar',\n",
       " 'oat']"
      ]
     },
     "execution_count": 30,
     "metadata": {},
     "output_type": "execute_result"
    }
   ],
   "source": [
    "my_list"
   ]
  },
  {
   "cell_type": "code",
   "execution_count": 31,
   "id": "9992710a",
   "metadata": {},
   "outputs": [
    {
     "data": {
      "text/plain": [
       "'palm oil'"
      ]
     },
     "execution_count": 31,
     "metadata": {},
     "output_type": "execute_result"
    }
   ],
   "source": [
    "my_list.pop(4)"
   ]
  },
  {
   "cell_type": "code",
   "execution_count": 32,
   "id": "9078dee0",
   "metadata": {},
   "outputs": [
    {
     "data": {
      "text/plain": [
       "['garri', 'milo', 'rice', 'beans', 'semo', 'cereals', 'milk', 'sugar', 'oat']"
      ]
     },
     "execution_count": 32,
     "metadata": {},
     "output_type": "execute_result"
    }
   ],
   "source": [
    "my_list"
   ]
  },
  {
   "cell_type": "code",
   "execution_count": 46,
   "id": "df280429",
   "metadata": {},
   "outputs": [],
   "source": [
    "# arrange in alphabetical order\n",
    "my_list.sort(reverse=True)"
   ]
  },
  {
   "cell_type": "code",
   "execution_count": 47,
   "id": "b2c95c4a",
   "metadata": {},
   "outputs": [
    {
     "data": {
      "text/plain": [
       "['sugar', 'semo', 'rice', 'oat', 'milo', 'milk', 'garri', 'cereals', 'beans']"
      ]
     },
     "execution_count": 47,
     "metadata": {},
     "output_type": "execute_result"
    }
   ],
   "source": [
    "my_list"
   ]
  },
  {
   "cell_type": "code",
   "execution_count": 49,
   "id": "19fc40ae",
   "metadata": {},
   "outputs": [
    {
     "data": {
      "text/plain": [
       "['sugar', 'semo', 'rice', 'oat', 'milo', 'milk', 'garri', 'cereals', 'beans']"
      ]
     },
     "execution_count": 49,
     "metadata": {},
     "output_type": "execute_result"
    }
   ],
   "source": [
    "# reverse\n",
    "my_list"
   ]
  },
  {
   "cell_type": "code",
   "execution_count": 50,
   "id": "a3446e74",
   "metadata": {},
   "outputs": [],
   "source": [
    "my_list.reverse()"
   ]
  },
  {
   "cell_type": "code",
   "execution_count": 51,
   "id": "3976c7e7",
   "metadata": {},
   "outputs": [
    {
     "data": {
      "text/plain": [
       "['beans', 'cereals', 'garri', 'milk', 'milo', 'oat', 'rice', 'semo', 'sugar']"
      ]
     },
     "execution_count": 51,
     "metadata": {},
     "output_type": "execute_result"
    }
   ],
   "source": [
    "my_list"
   ]
  },
  {
   "cell_type": "code",
   "execution_count": 61,
   "id": "c0d83db8",
   "metadata": {},
   "outputs": [],
   "source": [
    "del my_list[2:4]"
   ]
  },
  {
   "cell_type": "code",
   "execution_count": 62,
   "id": "4d4707fd",
   "metadata": {},
   "outputs": [
    {
     "data": {
      "text/plain": [
       "['beans', 'cereals', 'milo', 'oat', 'rice', 'semo', 'sugar']"
      ]
     },
     "execution_count": 62,
     "metadata": {},
     "output_type": "execute_result"
    }
   ],
   "source": [
    "my_list"
   ]
  },
  {
   "cell_type": "code",
   "execution_count": null,
   "id": "c8f6cfbb",
   "metadata": {},
   "outputs": [],
   "source": [
    "my_list"
   ]
  },
  {
   "cell_type": "code",
   "execution_count": null,
   "id": "1a173701",
   "metadata": {},
   "outputs": [],
   "source": []
  },
  {
   "cell_type": "code",
   "execution_count": null,
   "id": "5fa19b75",
   "metadata": {},
   "outputs": [],
   "source": []
  },
  {
   "cell_type": "code",
   "execution_count": null,
   "id": "3586bca7",
   "metadata": {},
   "outputs": [],
   "source": []
  },
  {
   "cell_type": "markdown",
   "id": "b3206799",
   "metadata": {},
   "source": [
    "# Properties of Lists in Python\n",
    "\n",
    "\n",
    "## 1. Mutability\n",
    "Lists are **mutable**, meaning you can change, add, or remove elements after the list has been created.\n",
    "\n",
    "### Example:\n",
    "```python\n",
    "my_list = [1, 2, 3, 4]\n",
    "my_list[2] = 10  # Modifying the third element\n",
    "print(my_list)   # Output: [1, 2, 10, 4]\n",
    "```\n",
    "\n",
    "You can also append or remove elements:\n",
    "```python\n",
    "my_list.append(5)  # Adding an element\n",
    "my_list.remove(2)  # Removing an element\n",
    "print(my_list)     # Output: [1, 10, 4, 5]\n",
    "```"
   ]
  },
  {
   "cell_type": "code",
   "execution_count": 66,
   "id": "140eca60",
   "metadata": {},
   "outputs": [],
   "source": [
    "# you can change element in a list\n",
    "\n",
    "my_list[5] = 'buscuit'"
   ]
  },
  {
   "cell_type": "code",
   "execution_count": 67,
   "id": "06a7d8cb",
   "metadata": {},
   "outputs": [
    {
     "data": {
      "text/plain": [
       "['beans', 'cereals', 'milo', 'oat', 'rice', 'buscuit', 'sugar']"
      ]
     },
     "execution_count": 67,
     "metadata": {},
     "output_type": "execute_result"
    }
   ],
   "source": [
    "my_list"
   ]
  },
  {
   "cell_type": "code",
   "execution_count": null,
   "id": "e0f975e0",
   "metadata": {},
   "outputs": [],
   "source": []
  },
  {
   "cell_type": "code",
   "execution_count": null,
   "id": "ed343788",
   "metadata": {},
   "outputs": [],
   "source": []
  },
  {
   "cell_type": "code",
   "execution_count": null,
   "id": "ae83c9a0",
   "metadata": {},
   "outputs": [],
   "source": []
  },
  {
   "cell_type": "markdown",
   "id": "e3b8802e",
   "metadata": {},
   "source": [
    "## 2. Ordering\n",
    "Lists maintain the order of elements. The elements are stored in the order they were added, and you can access them via their **index**.\n",
    "\n",
    "### Example:\n",
    "```python\n",
    "fruits = [\"apple\", \"banana\", \"cherry\"]\n",
    "print(fruits[0])  # Output: apple (first element)\n",
    "print(fruits[2])  # Output: cherry (third element)\n",
    "```"
   ]
  },
  {
   "cell_type": "code",
   "execution_count": 70,
   "id": "3b308b7f",
   "metadata": {},
   "outputs": [],
   "source": [
    "my_list.sort()"
   ]
  },
  {
   "cell_type": "code",
   "execution_count": 71,
   "id": "1f7f35c2",
   "metadata": {},
   "outputs": [
    {
     "data": {
      "text/plain": [
       "['beans', 'buscuit', 'cereals', 'milo', 'oat', 'rice', 'sugar']"
      ]
     },
     "execution_count": 71,
     "metadata": {},
     "output_type": "execute_result"
    }
   ],
   "source": [
    "my_list"
   ]
  },
  {
   "cell_type": "code",
   "execution_count": 72,
   "id": "a901098e",
   "metadata": {},
   "outputs": [
    {
     "data": {
      "text/plain": [
       "['beans', 'buscuit', 'cereals', 'milo', 'oat', 'rice', 'sugar']"
      ]
     },
     "execution_count": 72,
     "metadata": {},
     "output_type": "execute_result"
    }
   ],
   "source": [
    "my_list"
   ]
  },
  {
   "cell_type": "code",
   "execution_count": 73,
   "id": "4ff36a0b",
   "metadata": {},
   "outputs": [
    {
     "data": {
      "text/plain": [
       "'oat'"
      ]
     },
     "execution_count": 73,
     "metadata": {},
     "output_type": "execute_result"
    }
   ],
   "source": [
    "my_list[4]"
   ]
  },
  {
   "cell_type": "code",
   "execution_count": null,
   "id": "fdd56a3e",
   "metadata": {},
   "outputs": [],
   "source": []
  },
  {
   "cell_type": "code",
   "execution_count": null,
   "id": "9cefad44",
   "metadata": {},
   "outputs": [],
   "source": []
  },
  {
   "cell_type": "code",
   "execution_count": null,
   "id": "a8e4a02e",
   "metadata": {},
   "outputs": [],
   "source": []
  },
  {
   "cell_type": "code",
   "execution_count": null,
   "id": "f969a33a",
   "metadata": {},
   "outputs": [],
   "source": []
  },
  {
   "cell_type": "markdown",
   "id": "1ac8dd2e",
   "metadata": {},
   "source": [
    "## 3. Heterogeneity\n",
    "Lists can store elements of **different data types**. You can mix integers, strings, floats, and even other lists within the same list.\n",
    "\n",
    "### Example:\n",
    "```python\n",
    "mixed_list = [1, \"hello\", 3.14, [2, 4, 6]]\n",
    "print(mixed_list)  # Output: [1, 'hello', 3.14, [2, 4, 6]]\n",
    "```\n",
    "\n",
    "## 4. Nesting\n",
    "Lists can contain other lists (or other data structures) as elements, allowing for the creation of **nested lists** or multidimensional lists.\n",
    "\n",
    "### Example:\n",
    "```python\n",
    "nested_list = [[1, 2], [3, 4], [5, 6]]\n",
    "print(nested_list[1])      # Output: [3, 4] (second list)\n",
    "print(nested_list[1][0])   # Output: 3 (first element of the second list)\n",
    "```"
   ]
  },
  {
   "cell_type": "code",
   "execution_count": 74,
   "id": "2c17fb50",
   "metadata": {},
   "outputs": [
    {
     "data": {
      "text/plain": [
       "['beans', 'buscuit', 'cereals', 'milo', 'oat', 'rice', 'sugar']"
      ]
     },
     "execution_count": 74,
     "metadata": {},
     "output_type": "execute_result"
    }
   ],
   "source": [
    "my_list"
   ]
  },
  {
   "cell_type": "code",
   "execution_count": 77,
   "id": "1d75c8a1",
   "metadata": {},
   "outputs": [],
   "source": [
    "bola_list = ['akara', 'popcorn']"
   ]
  },
  {
   "cell_type": "code",
   "execution_count": 78,
   "id": "a60cb451",
   "metadata": {},
   "outputs": [],
   "source": [
    "my_list.append(bola_list)"
   ]
  },
  {
   "cell_type": "code",
   "execution_count": 79,
   "id": "d481c061",
   "metadata": {},
   "outputs": [
    {
     "data": {
      "text/plain": [
       "['beans',\n",
       " 'buscuit',\n",
       " 'cereals',\n",
       " 'milo',\n",
       " 'oat',\n",
       " 'rice',\n",
       " 'sugar',\n",
       " ['akara', 'popcorn']]"
      ]
     },
     "execution_count": 79,
     "metadata": {},
     "output_type": "execute_result"
    }
   ],
   "source": [
    "my_list"
   ]
  },
  {
   "cell_type": "code",
   "execution_count": null,
   "id": "19217c30",
   "metadata": {},
   "outputs": [],
   "source": []
  },
  {
   "cell_type": "code",
   "execution_count": null,
   "id": "4dd58dfb",
   "metadata": {},
   "outputs": [],
   "source": []
  },
  {
   "cell_type": "code",
   "execution_count": 75,
   "id": "e073fe8e",
   "metadata": {},
   "outputs": [
    {
     "data": {
      "text/plain": [
       "list"
      ]
     },
     "execution_count": 75,
     "metadata": {},
     "output_type": "execute_result"
    }
   ],
   "source": [
    "type([3, 4, 6, 7, [8, 9, 0]])"
   ]
  },
  {
   "cell_type": "markdown",
   "id": "6cab78f6",
   "metadata": {},
   "source": [
    "### 5. Indexing List\n",
    "Lists are indexed, starting from 0 for the first element, 1 for the second, and so on.\n",
    "\n",
    "Example:\n",
    "```python\n",
    "fruits = [\"apple\", \"banana\", \"cherry\"]\n",
    "print(fruits[0])  # Output: apple\n",
    "print(fruits[2])  # Output: cherry\n",
    "```"
   ]
  },
  {
   "cell_type": "code",
   "execution_count": 80,
   "id": "574a223b",
   "metadata": {},
   "outputs": [
    {
     "data": {
      "text/plain": [
       "['beans',\n",
       " 'buscuit',\n",
       " 'cereals',\n",
       " 'milo',\n",
       " 'oat',\n",
       " 'rice',\n",
       " 'sugar',\n",
       " ['akara', 'popcorn']]"
      ]
     },
     "execution_count": 80,
     "metadata": {},
     "output_type": "execute_result"
    }
   ],
   "source": [
    "my_list"
   ]
  },
  {
   "cell_type": "code",
   "execution_count": null,
   "id": "70fbe137",
   "metadata": {},
   "outputs": [],
   "source": []
  },
  {
   "cell_type": "code",
   "execution_count": null,
   "id": "fbc62a04",
   "metadata": {},
   "outputs": [],
   "source": []
  },
  {
   "cell_type": "markdown",
   "id": "33302906",
   "metadata": {},
   "source": [
    "### 6. Slicing List\n",
    "Slicing allows you to access a subset of the list by specifying a range of indices.\n",
    "\n",
    "Syntax: `list[start:stop]`\n",
    "- **start**: index to begin (inclusive)\n",
    "- **stop**: index to end (exclusive)\n",
    "\n",
    "Example:\n",
    "```python\n",
    "numbers = [10, 20, 30, 40, 50]\n",
    "print(numbers[1:4])  # Output: [20, 30, 40]\n",
    "```\n",
    "---"
   ]
  },
  {
   "cell_type": "code",
   "execution_count": 81,
   "id": "88681e17",
   "metadata": {},
   "outputs": [],
   "source": [
    "numbers = [10, 20, 30, 40, 50]"
   ]
  },
  {
   "cell_type": "code",
   "execution_count": 82,
   "id": "da1ffab4",
   "metadata": {},
   "outputs": [
    {
     "data": {
      "text/plain": [
       "[10, 20, 30]"
      ]
     },
     "execution_count": 82,
     "metadata": {},
     "output_type": "execute_result"
    }
   ],
   "source": [
    "numbers[0:3]"
   ]
  },
  {
   "cell_type": "code",
   "execution_count": null,
   "id": "6397e17a",
   "metadata": {},
   "outputs": [],
   "source": []
  },
  {
   "cell_type": "code",
   "execution_count": null,
   "id": "1bb5b344",
   "metadata": {},
   "outputs": [],
   "source": []
  },
  {
   "cell_type": "markdown",
   "id": "e50f8641",
   "metadata": {},
   "source": [
    "## Tuples\n",
    "\n",
    "A **tuple** is an ordered collection of items in Python, similar to a list, but unlike lists, tuples are **immutable**, meaning their elements cannot be changed, added, or removed after creation.\n",
    "\n",
    "Syntax for defining a tuple:\n",
    "```python\n",
    "my_tuple = (1, 2, 3, \"hello\", True)\n",
    "```"
   ]
  },
  {
   "cell_type": "code",
   "execution_count": null,
   "id": "31305894",
   "metadata": {},
   "outputs": [],
   "source": [
    "# list === []\n",
    "# tuple === ()"
   ]
  },
  {
   "cell_type": "code",
   "execution_count": 1,
   "id": "94f817f5",
   "metadata": {},
   "outputs": [
    {
     "data": {
      "text/plain": [
       "tuple"
      ]
     },
     "execution_count": 1,
     "metadata": {},
     "output_type": "execute_result"
    }
   ],
   "source": [
    "busola = ()\n",
    "type(busola)"
   ]
  },
  {
   "cell_type": "code",
   "execution_count": 2,
   "id": "d60dd8a5",
   "metadata": {},
   "outputs": [
    {
     "data": {
      "text/plain": [
       "list"
      ]
     },
     "execution_count": 2,
     "metadata": {},
     "output_type": "execute_result"
    }
   ],
   "source": [
    "seun = []\n",
    "type(seun)"
   ]
  },
  {
   "cell_type": "code",
   "execution_count": null,
   "id": "351c2d9e",
   "metadata": {},
   "outputs": [],
   "source": [
    "# food bucket\n",
    "food_item = ['rice', 'beans', 'garri'] # mutable\n",
    "\n",
    "# admission\n",
    "admisson_names = ('sola', 'lola', 'john') # immutable"
   ]
  },
  {
   "cell_type": "code",
   "execution_count": null,
   "id": "228bb342",
   "metadata": {},
   "outputs": [],
   "source": []
  },
  {
   "cell_type": "code",
   "execution_count": null,
   "id": "3afc6992",
   "metadata": {},
   "outputs": [],
   "source": []
  },
  {
   "cell_type": "markdown",
   "id": "b5ea09b9",
   "metadata": {},
   "source": [
    "### Purpose of Tuple\n",
    "- **Immutability**: Useful for storing data that should not be modified.\n",
    "- **Memory efficiency**: Tuples use less memory compared to lists, making them ideal for read-only collections.\n",
    "- **Hashable**: Can be used as keys in dictionaries if they contain hashable types.\n",
    "\n",
    "### Creating Tuple\n",
    "Tuples are created by placing items inside parentheses `()` and separating them with commas. For a single-item tuple, a trailing comma is required.\n",
    "\n",
    "Examples:\n",
    "```python\n",
    "my_tuple = (1, 2, 3)\n",
    "single_item_tuple = (5,)  # Note the comma\n",
    "```"
   ]
  },
  {
   "cell_type": "code",
   "execution_count": 3,
   "id": "0efc1428",
   "metadata": {},
   "outputs": [],
   "source": [
    "name = 'ade', 'lola', 'tunde'"
   ]
  },
  {
   "cell_type": "code",
   "execution_count": 4,
   "id": "d441f2ac",
   "metadata": {},
   "outputs": [
    {
     "data": {
      "text/plain": [
       "tuple"
      ]
     },
     "execution_count": 4,
     "metadata": {},
     "output_type": "execute_result"
    }
   ],
   "source": [
    "type(name)"
   ]
  },
  {
   "cell_type": "code",
   "execution_count": 5,
   "id": "65aa88e9",
   "metadata": {},
   "outputs": [],
   "source": [
    "cities = ('ibadan')"
   ]
  },
  {
   "cell_type": "code",
   "execution_count": 6,
   "id": "cee359da",
   "metadata": {},
   "outputs": [
    {
     "data": {
      "text/plain": [
       "str"
      ]
     },
     "execution_count": 6,
     "metadata": {},
     "output_type": "execute_result"
    }
   ],
   "source": [
    "type(cities)"
   ]
  },
  {
   "cell_type": "code",
   "execution_count": 8,
   "id": "3342df29",
   "metadata": {},
   "outputs": [],
   "source": [
    "cities = ('ibadan',)"
   ]
  },
  {
   "cell_type": "code",
   "execution_count": 9,
   "id": "38c4b828",
   "metadata": {},
   "outputs": [
    {
     "data": {
      "text/plain": [
       "tuple"
      ]
     },
     "execution_count": 9,
     "metadata": {},
     "output_type": "execute_result"
    }
   ],
   "source": [
    "type(cities)"
   ]
  },
  {
   "cell_type": "code",
   "execution_count": null,
   "id": "0378b3e0",
   "metadata": {},
   "outputs": [],
   "source": []
  },
  {
   "cell_type": "markdown",
   "id": "87b03e32",
   "metadata": {},
   "source": [
    "### Different Tuple Functions\n",
    "- `len(tuple)`: Returns the number of elements in the tuple.\n",
    "- `max(tuple)`: Returns the maximum value in the tuple (if the items are comparable).\n",
    "- `min(tuple)`: Returns the minimum value in the tuple.\n",
    "- `sum(tuple)`: Returns the sum of elements (for numeric tuples).\n",
    "- `tuple()`: Converts an iterable (like a list) into a tuple.\n",
    "\n",
    "Example:\n",
    "```python\n",
    "numbers = (5, 10, 15, 20)\n",
    "print(len(numbers))  # Output: 4\n",
    "print(sum(numbers))  # Output: 50\n",
    "```"
   ]
  },
  {
   "cell_type": "code",
   "execution_count": 12,
   "id": "7bcc244a",
   "metadata": {},
   "outputs": [
    {
     "name": "stdout",
     "output_type": "stream",
     "text": [
      "4\n"
     ]
    }
   ],
   "source": [
    "cities = ('ibadan', 'osogbo', 'ilorin', 'ife')\n",
    "print(len(cities))\n",
    "seun = 'my name'"
   ]
  },
  {
   "cell_type": "code",
   "execution_count": 13,
   "id": "0cc8467b",
   "metadata": {},
   "outputs": [],
   "source": [
    "# type conversion\n",
    "name = ['john', 'sola', 'ade']"
   ]
  },
  {
   "cell_type": "code",
   "execution_count": 14,
   "id": "a5213b69",
   "metadata": {},
   "outputs": [
    {
     "data": {
      "text/plain": [
       "list"
      ]
     },
     "execution_count": 14,
     "metadata": {},
     "output_type": "execute_result"
    }
   ],
   "source": [
    "type(name)"
   ]
  },
  {
   "cell_type": "code",
   "execution_count": 15,
   "id": "1a636ce7",
   "metadata": {},
   "outputs": [
    {
     "data": {
      "text/plain": [
       "('john', 'sola', 'ade')"
      ]
     },
     "execution_count": 15,
     "metadata": {},
     "output_type": "execute_result"
    }
   ],
   "source": [
    "tuple(name)"
   ]
  },
  {
   "cell_type": "code",
   "execution_count": 16,
   "id": "6cea1cfa",
   "metadata": {},
   "outputs": [],
   "source": [
    "age = (12, 45, 87, 23)"
   ]
  },
  {
   "cell_type": "code",
   "execution_count": 17,
   "id": "bb8c2ac6",
   "metadata": {},
   "outputs": [
    {
     "data": {
      "text/plain": [
       "[12, 45, 87, 23]"
      ]
     },
     "execution_count": 17,
     "metadata": {},
     "output_type": "execute_result"
    }
   ],
   "source": [
    "list(age)"
   ]
  },
  {
   "cell_type": "code",
   "execution_count": null,
   "id": "955d0529",
   "metadata": {},
   "outputs": [],
   "source": []
  },
  {
   "cell_type": "code",
   "execution_count": null,
   "id": "438eb8a9",
   "metadata": {},
   "outputs": [],
   "source": []
  },
  {
   "cell_type": "markdown",
   "id": "5427e3df",
   "metadata": {},
   "source": [
    "### Different Tuple Methods\n",
    "Since tuples are immutable, they have fewer methods than lists. The two main methods are:\n",
    "- `count(item)`: Returns the number of times an item appears in the tuple.\n",
    "- `index(item)`: Returns the index of the first occurrence of an item.\n",
    "\n",
    "Example:\n",
    "```python\n",
    "my_tuple = (1, 2, 3, 2, 4)\n",
    "print(my_tuple.count(2))  # Output: 2\n",
    "print(my_tuple.index(3))  # Output: 2\n",
    "```\n",
    "\n",
    "---"
   ]
  },
  {
   "cell_type": "code",
   "execution_count": 18,
   "id": "9db3d04e",
   "metadata": {},
   "outputs": [
    {
     "data": {
      "text/plain": [
       "'BUSOLA'"
      ]
     },
     "execution_count": 18,
     "metadata": {},
     "output_type": "execute_result"
    }
   ],
   "source": [
    "my_name = 'busola'\n",
    "my_name.upper()"
   ]
  },
  {
   "cell_type": "code",
   "execution_count": 19,
   "id": "cf0d0921",
   "metadata": {},
   "outputs": [
    {
     "ename": "AttributeError",
     "evalue": "'int' object has no attribute 'upper'",
     "output_type": "error",
     "traceback": [
      "\u001b[1;31m---------------------------------------------------------------------------\u001b[0m",
      "\u001b[1;31mAttributeError\u001b[0m                            Traceback (most recent call last)",
      "Cell \u001b[1;32mIn[19], line 2\u001b[0m\n\u001b[0;32m      1\u001b[0m my_age \u001b[38;5;241m=\u001b[39m \u001b[38;5;241m12\u001b[39m\n\u001b[1;32m----> 2\u001b[0m my_age\u001b[38;5;241m.\u001b[39mupper()\n",
      "\u001b[1;31mAttributeError\u001b[0m: 'int' object has no attribute 'upper'"
     ]
    }
   ],
   "source": [
    "my_age = 12\n",
    "my_age.upper()"
   ]
  },
  {
   "cell_type": "code",
   "execution_count": 24,
   "id": "438af5a6",
   "metadata": {},
   "outputs": [],
   "source": [
    "class_name = ('ade', 'sola', 'tade', 'ade')"
   ]
  },
  {
   "cell_type": "code",
   "execution_count": 25,
   "id": "686d277e",
   "metadata": {},
   "outputs": [
    {
     "data": {
      "text/plain": [
       "2"
      ]
     },
     "execution_count": 25,
     "metadata": {},
     "output_type": "execute_result"
    }
   ],
   "source": [
    "class_name.count('ade')"
   ]
  },
  {
   "cell_type": "code",
   "execution_count": 27,
   "id": "50492650",
   "metadata": {},
   "outputs": [
    {
     "data": {
      "text/plain": [
       "2"
      ]
     },
     "execution_count": 27,
     "metadata": {},
     "output_type": "execute_result"
    }
   ],
   "source": [
    "class_name.index('tade')"
   ]
  },
  {
   "cell_type": "code",
   "execution_count": 28,
   "id": "7819e3d8",
   "metadata": {},
   "outputs": [
    {
     "data": {
      "text/plain": [
       "0"
      ]
     },
     "execution_count": 28,
     "metadata": {},
     "output_type": "execute_result"
    }
   ],
   "source": [
    "class_name.index('ade')"
   ]
  },
  {
   "cell_type": "code",
   "execution_count": null,
   "id": "7e3f4ae9",
   "metadata": {},
   "outputs": [],
   "source": [
    "class_name."
   ]
  },
  {
   "cell_type": "code",
   "execution_count": 37,
   "id": "889d78d7",
   "metadata": {},
   "outputs": [],
   "source": [
    "school = 'square school'"
   ]
  },
  {
   "cell_type": "code",
   "execution_count": 38,
   "id": "5c273949",
   "metadata": {},
   "outputs": [
    {
     "data": {
      "text/plain": [
       "'Square school'"
      ]
     },
     "execution_count": 38,
     "metadata": {},
     "output_type": "execute_result"
    }
   ],
   "source": [
    "school.capitalize()"
   ]
  },
  {
   "cell_type": "code",
   "execution_count": 39,
   "id": "cfef54fe",
   "metadata": {},
   "outputs": [],
   "source": [
    "my_friend = 'Ade'"
   ]
  },
  {
   "cell_type": "code",
   "execution_count": 40,
   "id": "56a119b1",
   "metadata": {},
   "outputs": [
    {
     "data": {
      "text/plain": [
       "3"
      ]
     },
     "execution_count": 40,
     "metadata": {},
     "output_type": "execute_result"
    }
   ],
   "source": [
    "len(my_friend)"
   ]
  },
  {
   "cell_type": "code",
   "execution_count": 55,
   "id": "4dfc4c52",
   "metadata": {},
   "outputs": [
    {
     "data": {
      "text/plain": [
       "100"
      ]
     },
     "execution_count": 55,
     "metadata": {},
     "output_type": "execute_result"
    }
   ],
   "source": [
    "len(my_friend.center(1))"
   ]
  },
  {
   "cell_type": "code",
   "execution_count": 56,
   "id": "83e417a9",
   "metadata": {},
   "outputs": [],
   "source": [
    "sibling_salaries = [12, 34, 67, 23, 45]"
   ]
  },
  {
   "cell_type": "code",
   "execution_count": 57,
   "id": "0fb2e5a0",
   "metadata": {},
   "outputs": [],
   "source": [
    "sibling_salaries.sort()"
   ]
  },
  {
   "cell_type": "code",
   "execution_count": 58,
   "id": "37483c83",
   "metadata": {},
   "outputs": [
    {
     "data": {
      "text/plain": [
       "[12, 23, 34, 45, 67]"
      ]
     },
     "execution_count": 58,
     "metadata": {},
     "output_type": "execute_result"
    }
   ],
   "source": [
    "sibling_salaries"
   ]
  },
  {
   "cell_type": "code",
   "execution_count": null,
   "id": "6523c11b",
   "metadata": {},
   "outputs": [],
   "source": []
  },
  {
   "cell_type": "markdown",
   "id": "46d73937",
   "metadata": {},
   "source": [
    "# Properties of Tuples in Python\n",
    "\n",
    "\n",
    "\n",
    "## 1. Immutability\n",
    "Tuples are **immutable**, meaning that once a tuple is created, its elements cannot be modified (i.e., no adding, removing, or changing elements).\n",
    "\n",
    "### Example:\n",
    "```python\n",
    "my_tuple = (1, 2, 3)\n",
    "# Attempting to change an element will raise an error\n",
    "# my_tuple[1] = 10  # Uncommenting this line will raise a TypeError\n",
    "```\n",
    "\n",
    "The immutability of tuples makes them a good choice when you want to ensure that data remains constant throughout the program.\n",
    "\n",
    "## 2. Ordering\n",
    "Tuples maintain the **order** of elements, just like lists. The elements in a tuple are stored in the order they are added, and this order does not change.\n",
    "\n",
    "### Example:\n",
    "```python\n",
    "my_tuple = (\"apple\", \"banana\", \"cherry\")\n",
    "print(my_tuple[0])  # Output: apple (first element)\n",
    "print(my_tuple[2])  # Output: cherry (third element)\n",
    "```"
   ]
  },
  {
   "cell_type": "code",
   "execution_count": 59,
   "id": "13e275cc",
   "metadata": {},
   "outputs": [],
   "source": [
    "my_tuple = (\"apple\", \"banana\", \"cherry\")"
   ]
  },
  {
   "cell_type": "code",
   "execution_count": 68,
   "id": "9e2ebc41",
   "metadata": {},
   "outputs": [
    {
     "data": {
      "text/plain": [
       "'cherry'"
      ]
     },
     "execution_count": 68,
     "metadata": {},
     "output_type": "execute_result"
    }
   ],
   "source": [
    "my_tuple[-1]"
   ]
  },
  {
   "cell_type": "code",
   "execution_count": 60,
   "id": "60433c96",
   "metadata": {},
   "outputs": [],
   "source": [
    "my_food = ['garri', 'rice', 'beans', 'yam', 'banana']"
   ]
  },
  {
   "cell_type": "code",
   "execution_count": 65,
   "id": "a8e98183",
   "metadata": {},
   "outputs": [
    {
     "data": {
      "text/plain": [
       "'yam'"
      ]
     },
     "execution_count": 65,
     "metadata": {},
     "output_type": "execute_result"
    }
   ],
   "source": [
    "my_food[-2]"
   ]
  },
  {
   "cell_type": "code",
   "execution_count": 70,
   "id": "05b78dda",
   "metadata": {},
   "outputs": [],
   "source": [
    "import numpy as np"
   ]
  },
  {
   "cell_type": "code",
   "execution_count": null,
   "id": "de42ba8b",
   "metadata": {},
   "outputs": [],
   "source": []
  },
  {
   "cell_type": "markdown",
   "id": "a6f2a81e",
   "metadata": {},
   "source": [
    "## 3. Heterogeneity\n",
    "Tuples can store elements of **different data types**, allowing you to mix integers, strings, floats, or even other tuples within the same tuple.\n",
    "\n",
    "### Example:\n",
    "```python\n",
    "my_tuple = (     1, \"hello\", 3.14, (10, 20)     )\n",
    "print(my_tuple)  # Output: (1, 'hello', 3.14, (10, 20))\n",
    "```\n",
    "\n",
    "## 4. Nesting\n",
    "Tuples can contain other tuples or other data structures (such as lists or dictionaries) as elements. This is called **nesting**.\n",
    "\n",
    "### Example:\n",
    "```python\n",
    "nested_tuple = ( (1, 2), (\"a\", \"b\"), (True, False)   )\n",
    "print(nested_tuple[1])     # Output: ('a', 'b') (second tuple)\n",
    "print(nested_tuple[1][0])  # Output: 'a' (first element of the second tuple)\n",
    "```"
   ]
  },
  {
   "cell_type": "code",
   "execution_count": 72,
   "id": "01624d69",
   "metadata": {},
   "outputs": [],
   "source": [
    "my_family = (('busola', 12, 'blue'), ('lola', 32, 'black'), ('john', 24, 'white'))"
   ]
  },
  {
   "cell_type": "code",
   "execution_count": 73,
   "id": "06ddf878",
   "metadata": {},
   "outputs": [
    {
     "data": {
      "text/plain": [
       "3"
      ]
     },
     "execution_count": 73,
     "metadata": {},
     "output_type": "execute_result"
    }
   ],
   "source": [
    "len(my_family)"
   ]
  },
  {
   "cell_type": "code",
   "execution_count": 75,
   "id": "95e47ff4",
   "metadata": {},
   "outputs": [
    {
     "data": {
      "text/plain": [
       "'busola'"
      ]
     },
     "execution_count": 75,
     "metadata": {},
     "output_type": "execute_result"
    }
   ],
   "source": [
    "my_family[0][0]"
   ]
  },
  {
   "cell_type": "code",
   "execution_count": 77,
   "id": "e4b20edb",
   "metadata": {},
   "outputs": [
    {
     "data": {
      "text/plain": [
       "'white'"
      ]
     },
     "execution_count": 77,
     "metadata": {},
     "output_type": "execute_result"
    }
   ],
   "source": [
    "my_family[2][2]"
   ]
  },
  {
   "cell_type": "code",
   "execution_count": 79,
   "id": "71c09083",
   "metadata": {},
   "outputs": [
    {
     "data": {
      "text/plain": [
       "'john'"
      ]
     },
     "execution_count": 79,
     "metadata": {},
     "output_type": "execute_result"
    }
   ],
   "source": [
    "my_family[2][0]"
   ]
  },
  {
   "cell_type": "code",
   "execution_count": null,
   "id": "b76c3e6f",
   "metadata": {},
   "outputs": [],
   "source": []
  },
  {
   "cell_type": "markdown",
   "id": "02f2a4fb",
   "metadata": {},
   "source": [
    "## 5. Indexing and Slicing\n",
    "Tuples, like lists, support **indexing** and **slicing**. You can access individual elements by their index or obtain a subset of the tuple using slicing.\n",
    "\n",
    "### Example (Indexing):\n",
    "```python\n",
    "my_tuple = (10, 20, 30, 40)\n",
    "print(my_tuple[1])    # Output: 20 (second element)\n",
    "print(my_tuple[-1])   # Output: 40 (last element)\n",
    "```\n",
    "\n",
    "### Example (Slicing):\n",
    "```python\n",
    "my_tuple = (10, 20, 30, 40, 50)\n",
    "print(my_tuple[1:4])  # Output: (20, 30, 40) (elements from index 1 to 3)\n",
    "print(my_tuple[:3])   # Output: (10, 20, 30) (first three elements)\n",
    "```"
   ]
  },
  {
   "cell_type": "code",
   "execution_count": 88,
   "id": "1a657514",
   "metadata": {},
   "outputs": [],
   "source": [
    "class_mate = ('john', 'lucky', 'femi', 'moses', 'azeez', 'idayat')"
   ]
  },
  {
   "cell_type": "code",
   "execution_count": 82,
   "id": "082879c2",
   "metadata": {},
   "outputs": [
    {
     "data": {
      "text/plain": [
       "'moses'"
      ]
     },
     "execution_count": 82,
     "metadata": {},
     "output_type": "execute_result"
    }
   ],
   "source": [
    "class_mate[-2]"
   ]
  },
  {
   "cell_type": "code",
   "execution_count": 84,
   "id": "f3039201",
   "metadata": {},
   "outputs": [
    {
     "data": {
      "text/plain": [
       "('moses', 'azeez')"
      ]
     },
     "execution_count": 84,
     "metadata": {},
     "output_type": "execute_result"
    }
   ],
   "source": [
    "class_mate[-2:]"
   ]
  },
  {
   "cell_type": "code",
   "execution_count": 91,
   "id": "e24f5c26",
   "metadata": {},
   "outputs": [
    {
     "data": {
      "text/plain": [
       "('moses', 'azeez', 'idayat')"
      ]
     },
     "execution_count": 91,
     "metadata": {},
     "output_type": "execute_result"
    }
   ],
   "source": [
    "class_mate[3:6]"
   ]
  },
  {
   "cell_type": "code",
   "execution_count": null,
   "id": "f7de1015",
   "metadata": {},
   "outputs": [],
   "source": []
  },
  {
   "cell_type": "code",
   "execution_count": null,
   "id": "70937453",
   "metadata": {},
   "outputs": [],
   "source": []
  },
  {
   "cell_type": "code",
   "execution_count": null,
   "id": "e529b1b2",
   "metadata": {},
   "outputs": [],
   "source": []
  },
  {
   "cell_type": "markdown",
   "id": "47787de8",
   "metadata": {},
   "source": [
    "## 6. Hashable\n",
    "Tuples are **hashable** if they contain hashable types (e.g., integers, strings). This makes them usable as keys in dictionaries, unlike lists which are mutable and not hashable.\n",
    "\n",
    "### Example:\n",
    "```python\n",
    "my_tuple = (1, 2, 3)\n",
    "my_dict = {my_tuple: \"value\"}\n",
    "print(my_dict)  # Output: {(1, 2, 3): 'value'}\n",
    "```\n",
    "\n",
    "## 7. Tuple Packing and Unpacking\n",
    "Tuples allow **packing** multiple values into a single tuple and **unpacking** the tuple into separate variables.\n",
    "\n",
    "### Example (Packing):\n",
    "```python\n",
    "packed_tuple = 1, 2, \"hello\"  # Packing values into a tuple\n",
    "print(packed_tuple)           # Output: (1, 2, 'hello')\n",
    "```\n",
    "\n",
    "### Example (Unpacking):\n",
    "```python\n",
    "a, b, c = packed_tuple  # Unpacking the tuple into variables\n",
    "print(a)  # Output: 1\n",
    "print(b)  # Output: 2\n",
    "print(c)  # Output: hello\n",
    "```\n",
    "\n",
    "## 9. Memory Efficiency\n",
    "Tuples are more **memory-efficient** than lists due to their immutability, making them a preferred choice for large datasets that don't require modification.\n",
    "\n",
    "### Example:\n",
    "```python\n",
    "import sys\n",
    "my_list = [1, 2, 3]\n",
    "my_tuple = (1, 2, 3)\n",
    "print(sys.getsizeof(my_list))  # Output: (size in bytes, e.g., 80)\n",
    "print(sys.getsizeof(my_tuple)) # Output: (size in bytes, e.g., 64)\n",
    "```\n",
    "---"
   ]
  },
  {
   "cell_type": "markdown",
   "id": "2dd59ac8",
   "metadata": {},
   "source": [
    "## Unpacking\n",
    "In Python, **unpacking with an asterisk (`*`)** allows you to unpack elements from a data structure like a list, tuple, or other iterable. The asterisk (`*`) can be used to capture multiple elements from a sequence and assign them to variables. This is especially useful when you want to assign a part of the sequence to one variable and the remaining elements to another.\n",
    "\n",
    "### How Unpacking with `*` Works:\n",
    "- When you use a single asterisk (`*`) before a variable in an unpacking assignment, it collects all the remaining items from the iterable into a list.\n",
    "- It allows for **partial unpacking**, where some variables receive specific values, and the remaining values are collected into a list by the `*` variable.\n",
    "\n",
    "### Example 1: Unpacking a List with `*`\n",
    "```python\n",
    "numbers = [1, 2, 3, 4, 5]\n",
    "\n",
    "# Unpacking the first two elements into a and b, and the rest into c\n",
    "a, b, *c = numbers\n",
    "\n",
    "print(a)  # Output: 1\n",
    "print(b)  # Output: 2\n",
    "print(c)  # Output: [3, 4, 5] (the remaining elements are stored in c)\n",
    "```"
   ]
  },
  {
   "cell_type": "code",
   "execution_count": 92,
   "id": "b12c53a8",
   "metadata": {},
   "outputs": [],
   "source": [
    "my_children = ('lola', 'femi', 'kemi', 'demi')"
   ]
  },
  {
   "cell_type": "code",
   "execution_count": 93,
   "id": "e17e11aa",
   "metadata": {},
   "outputs": [],
   "source": [
    "first, second, third, fourth = my_children"
   ]
  },
  {
   "cell_type": "code",
   "execution_count": 94,
   "id": "cf4d2243",
   "metadata": {},
   "outputs": [
    {
     "data": {
      "text/plain": [
       "'lola'"
      ]
     },
     "execution_count": 94,
     "metadata": {},
     "output_type": "execute_result"
    }
   ],
   "source": [
    "first"
   ]
  },
  {
   "cell_type": "code",
   "execution_count": 95,
   "id": "c033f9f2",
   "metadata": {},
   "outputs": [
    {
     "data": {
      "text/plain": [
       "'femi'"
      ]
     },
     "execution_count": 95,
     "metadata": {},
     "output_type": "execute_result"
    }
   ],
   "source": [
    "second"
   ]
  },
  {
   "cell_type": "code",
   "execution_count": 96,
   "id": "3277edca",
   "metadata": {},
   "outputs": [
    {
     "data": {
      "text/plain": [
       "'kemi'"
      ]
     },
     "execution_count": 96,
     "metadata": {},
     "output_type": "execute_result"
    }
   ],
   "source": [
    "third"
   ]
  },
  {
   "cell_type": "code",
   "execution_count": 97,
   "id": "2fe4b18a",
   "metadata": {},
   "outputs": [
    {
     "data": {
      "text/plain": [
       "'demi'"
      ]
     },
     "execution_count": 97,
     "metadata": {},
     "output_type": "execute_result"
    }
   ],
   "source": [
    "fourth"
   ]
  },
  {
   "cell_type": "code",
   "execution_count": 106,
   "id": "732c6d41",
   "metadata": {},
   "outputs": [],
   "source": [
    "cities = ('lagos', 'ibadan', 'osogbo')"
   ]
  },
  {
   "cell_type": "code",
   "execution_count": 108,
   "id": "0a3aa563",
   "metadata": {},
   "outputs": [],
   "source": [
    "wealthiest_city, largest_city, electricity_city = cities"
   ]
  },
  {
   "cell_type": "code",
   "execution_count": 109,
   "id": "cdf9c4b7",
   "metadata": {},
   "outputs": [
    {
     "data": {
      "text/plain": [
       "'ibadan'"
      ]
     },
     "execution_count": 109,
     "metadata": {},
     "output_type": "execute_result"
    }
   ],
   "source": [
    "largest_city"
   ]
  },
  {
   "cell_type": "code",
   "execution_count": 110,
   "id": "ff8255ed",
   "metadata": {},
   "outputs": [
    {
     "data": {
      "text/plain": [
       "'osogbo'"
      ]
     },
     "execution_count": 110,
     "metadata": {},
     "output_type": "execute_result"
    }
   ],
   "source": [
    "electricity_city"
   ]
  },
  {
   "cell_type": "code",
   "execution_count": null,
   "id": "7af588c2",
   "metadata": {},
   "outputs": [],
   "source": []
  },
  {
   "cell_type": "code",
   "execution_count": null,
   "id": "e517726f",
   "metadata": {},
   "outputs": [],
   "source": []
  },
  {
   "cell_type": "code",
   "execution_count": null,
   "id": "6c5a8367",
   "metadata": {},
   "outputs": [],
   "source": []
  },
  {
   "cell_type": "markdown",
   "id": "f58cf67e",
   "metadata": {},
   "source": [
    "### Example 2: Unpacking a Tuple with `*`\n",
    "```python\n",
    "my_tuple = (10, 20, 30, 40, 50)\n",
    "\n",
    "# Unpacking the first element into x, the last element into z, and the rest into y\n",
    "x, *y, z = my_tuple\n",
    "\n",
    "print(x)  # Output: 10\n",
    "print(y)  # Output: [20, 30, 40] (middle elements are stored in y)\n",
    "print(z)  # Output: 50\n",
    "```"
   ]
  },
  {
   "cell_type": "code",
   "execution_count": 114,
   "id": "03d68158",
   "metadata": {},
   "outputs": [],
   "source": [
    "cities = ('ibadan', 'ikeja', 'osogbo', 'ikeji')"
   ]
  },
  {
   "cell_type": "code",
   "execution_count": 116,
   "id": "06dcc1dd",
   "metadata": {},
   "outputs": [],
   "source": [
    "oyo, lagos, *osun = cities"
   ]
  },
  {
   "cell_type": "code",
   "execution_count": 117,
   "id": "72d565c9",
   "metadata": {},
   "outputs": [
    {
     "data": {
      "text/plain": [
       "'ibadan'"
      ]
     },
     "execution_count": 117,
     "metadata": {},
     "output_type": "execute_result"
    }
   ],
   "source": [
    "oyo"
   ]
  },
  {
   "cell_type": "code",
   "execution_count": 118,
   "id": "61665abc",
   "metadata": {},
   "outputs": [
    {
     "data": {
      "text/plain": [
       "'ikeja'"
      ]
     },
     "execution_count": 118,
     "metadata": {},
     "output_type": "execute_result"
    }
   ],
   "source": [
    "lagos"
   ]
  },
  {
   "cell_type": "code",
   "execution_count": 119,
   "id": "e8400ea9",
   "metadata": {},
   "outputs": [
    {
     "data": {
      "text/plain": [
       "['osogbo', 'ikeji']"
      ]
     },
     "execution_count": 119,
     "metadata": {},
     "output_type": "execute_result"
    }
   ],
   "source": [
    "osun"
   ]
  },
  {
   "cell_type": "code",
   "execution_count": 120,
   "id": "f25fcd4a",
   "metadata": {},
   "outputs": [],
   "source": [
    "cities = ('ibadan', 'ikorodu', 'agege', 'surulere', 'osogbo')"
   ]
  },
  {
   "cell_type": "code",
   "execution_count": 121,
   "id": "6ea5d94a",
   "metadata": {},
   "outputs": [],
   "source": [
    "oyo, *lagos, osun = cities"
   ]
  },
  {
   "cell_type": "code",
   "execution_count": 122,
   "id": "4908d044",
   "metadata": {},
   "outputs": [
    {
     "data": {
      "text/plain": [
       "'ibadan'"
      ]
     },
     "execution_count": 122,
     "metadata": {},
     "output_type": "execute_result"
    }
   ],
   "source": [
    "oyo"
   ]
  },
  {
   "cell_type": "code",
   "execution_count": 123,
   "id": "acaf7ef6",
   "metadata": {},
   "outputs": [
    {
     "data": {
      "text/plain": [
       "['ikorodu', 'agege', 'surulere']"
      ]
     },
     "execution_count": 123,
     "metadata": {},
     "output_type": "execute_result"
    }
   ],
   "source": [
    "lagos"
   ]
  },
  {
   "cell_type": "code",
   "execution_count": 124,
   "id": "3ab51ea4",
   "metadata": {},
   "outputs": [
    {
     "data": {
      "text/plain": [
       "'osogbo'"
      ]
     },
     "execution_count": 124,
     "metadata": {},
     "output_type": "execute_result"
    }
   ],
   "source": [
    "osun"
   ]
  },
  {
   "cell_type": "code",
   "execution_count": null,
   "id": "a0cb8f8e",
   "metadata": {},
   "outputs": [],
   "source": []
  },
  {
   "cell_type": "code",
   "execution_count": null,
   "id": "154dae34",
   "metadata": {},
   "outputs": [],
   "source": []
  },
  {
   "cell_type": "markdown",
   "id": "a612c757",
   "metadata": {},
   "source": [
    "### Example 3: Ignoring Some Values Using `*`\n",
    "You can use unpacking with `*` to ignore certain parts of a sequence.\n",
    "```python\n",
    "data = [100, 200, 300, 400, 500]\n",
    "\n",
    "# Unpacking the first and last elements, and ignoring the middle\n",
    "first, *_, last = data\n",
    "\n",
    "print(first)  # Output: 100\n",
    "print(last)   # Output: 500\n",
    "```\n",
    "Here, `_` is a convention used when you want to ignore some elements."
   ]
  },
  {
   "cell_type": "code",
   "execution_count": null,
   "id": "86d6da53",
   "metadata": {},
   "outputs": [],
   "source": [
    "cities = ('ibadan', 'ikorodu', 'agege', 'surulere', 'osogbo')"
   ]
  },
  {
   "cell_type": "code",
   "execution_count": 125,
   "id": "c92e6102",
   "metadata": {},
   "outputs": [],
   "source": [
    "oyo, *_, osun = cities"
   ]
  },
  {
   "cell_type": "code",
   "execution_count": 126,
   "id": "1552165d",
   "metadata": {},
   "outputs": [],
   "source": [
    "cities = ('ibadan', 'ikorodu', 'agege', 'surulere', 'osogbo')"
   ]
  },
  {
   "cell_type": "code",
   "execution_count": 127,
   "id": "e31c6ef4",
   "metadata": {},
   "outputs": [],
   "source": [
    "oyo, *lagos, _ = cities"
   ]
  },
  {
   "cell_type": "markdown",
   "id": "90272f55",
   "metadata": {},
   "source": [
    "### Example 4: Function Arguments with `*`\n",
    "Unpacking with `*` can also be used to pass variable-length arguments to a function.\n",
    "\n",
    "#### Example:\n",
    "```python\n",
    "def my_function(a, b, c):\n",
    "    print(a, b, c)\n",
    "\n",
    "# Using * to unpack a list into function arguments\n",
    "args = [1, 2, 3]\n",
    "my_function(*args)  # Output: 1 2 3\n",
    "```\n",
    "\n",
    "### Example 5: Merging Lists with `*`\n",
    "You can also use `*` to unpack lists (or tuples) when merging them.\n",
    "```python\n",
    "list1 = [1, 2, 3]\n",
    "list2 = [4, 5, 6]\n",
    "\n",
    "merged_list = [*list1, *list2]\n",
    "print(merged_list)  # Output: [1, 2, 3, 4, 5, 6]\n",
    "```\n",
    "\n",
    "### Summary:\n",
    "- `*` allows you to capture multiple elements from a sequence into a list during unpacking.\n",
    "- You can unpack specific elements and group the rest with `*`.\n",
    "- It's versatile in function arguments, list merging, and ignoring values."
   ]
  },
  {
   "cell_type": "code",
   "execution_count": 129,
   "id": "336e73f2",
   "metadata": {},
   "outputs": [],
   "source": [
    "my_children = (*('femi', 'ade'), *('lola', 'fola'))"
   ]
  },
  {
   "cell_type": "code",
   "execution_count": 130,
   "id": "11e3606e",
   "metadata": {},
   "outputs": [
    {
     "data": {
      "text/plain": [
       "('femi', 'ade', 'lola', 'fola')"
      ]
     },
     "execution_count": 130,
     "metadata": {},
     "output_type": "execute_result"
    }
   ],
   "source": [
    "my_children"
   ]
  },
  {
   "cell_type": "code",
   "execution_count": null,
   "id": "1a775129",
   "metadata": {},
   "outputs": [],
   "source": []
  }
 ],
 "metadata": {
  "kernelspec": {
   "display_name": "Python 3 (ipykernel)",
   "language": "python",
   "name": "python3"
  },
  "language_info": {
   "codemirror_mode": {
    "name": "ipython",
    "version": 3
   },
   "file_extension": ".py",
   "mimetype": "text/x-python",
   "name": "python",
   "nbconvert_exporter": "python",
   "pygments_lexer": "ipython3",
   "version": "3.11.4"
  }
 },
 "nbformat": 4,
 "nbformat_minor": 5
}
